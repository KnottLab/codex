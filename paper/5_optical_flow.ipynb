{
 "cells": [
  {
   "cell_type": "code",
   "execution_count": 1,
   "id": "respective-replica",
   "metadata": {},
   "outputs": [],
   "source": [
    "%matplotlib inline\n",
    "\n",
    "from image_registration import chi2_shift\n",
    "from matplotlib import pyplot as plt\n",
    "from matplotlib import rcParams\n",
    "import seaborn as sns\n",
    "import numpy as np\n",
    "import cv2"
   ]
  },
  {
   "cell_type": "code",
   "execution_count": 21,
   "id": "developmental-despite",
   "metadata": {},
   "outputs": [
    {
     "name": "stdout",
     "output_type": "stream",
     "text": [
      "0 210226_Bladder_TMA1_reg35/1_shading_correction/210226_Bladder_TMA1_reg35_cycle01_channel00_DAPI_4.tif\n",
      "1 210226_Bladder_TMA1_reg35/1_shading_correction/210226_Bladder_TMA1_reg35_cycle02_channel00_DAPI_8.tif\n",
      "2 210226_Bladder_TMA1_reg35/1_shading_correction/210226_Bladder_TMA1_reg35_cycle03_channel00_DAPI_12.tif\n",
      "3 210226_Bladder_TMA1_reg35/1_shading_correction/210226_Bladder_TMA1_reg35_cycle04_channel00_DAPI_16.tif\n",
      "4 210226_Bladder_TMA1_reg35/1_shading_correction/210226_Bladder_TMA1_reg35_cycle05_channel00_DAPI_20.tif\n",
      "5 210226_Bladder_TMA1_reg35/1_shading_correction/210226_Bladder_TMA1_reg35_cycle06_channel00_DAPI_24.tif\n",
      "6 210226_Bladder_TMA1_reg35/1_shading_correction/210226_Bladder_TMA1_reg35_cycle07_channel00_DAPI_28.tif\n",
      "7 210226_Bladder_TMA1_reg35/1_shading_correction/210226_Bladder_TMA1_reg35_cycle08_channel00_DAPI_32.tif\n",
      "8 210226_Bladder_TMA1_reg35/1_shading_correction/210226_Bladder_TMA1_reg35_cycle09_channel00_DAPI_36.tif\n",
      "9 210226_Bladder_TMA1_reg35/1_shading_correction/210226_Bladder_TMA1_reg35_cycle10_channel00_DAPI_40.tif\n",
      "10 210226_Bladder_TMA1_reg35/1_shading_correction/210226_Bladder_TMA1_reg35_cycle11_channel00_DAPI_44.tif\n",
      "11 210226_Bladder_TMA1_reg35/1_shading_correction/210226_Bladder_TMA1_reg35_cycle12_channel00_DAPI_48.tif\n",
      "\n",
      "0 210226_Bladder_TMA1_reg35/2_cycle_alignment/210226_Bladder_TMA1_reg35_cycle01_channel00_DAPI_4.tif\n",
      "1 210226_Bladder_TMA1_reg35/2_cycle_alignment/210226_Bladder_TMA1_reg35_cycle02_channel00_DAPI_8.tif\n",
      "2 210226_Bladder_TMA1_reg35/2_cycle_alignment/210226_Bladder_TMA1_reg35_cycle03_channel00_DAPI_12.tif\n",
      "3 210226_Bladder_TMA1_reg35/2_cycle_alignment/210226_Bladder_TMA1_reg35_cycle04_channel00_DAPI_16.tif\n",
      "4 210226_Bladder_TMA1_reg35/2_cycle_alignment/210226_Bladder_TMA1_reg35_cycle05_channel00_DAPI_20.tif\n",
      "5 210226_Bladder_TMA1_reg35/2_cycle_alignment/210226_Bladder_TMA1_reg35_cycle06_channel00_DAPI_24.tif\n",
      "6 210226_Bladder_TMA1_reg35/2_cycle_alignment/210226_Bladder_TMA1_reg35_cycle07_channel00_DAPI_28.tif\n",
      "7 210226_Bladder_TMA1_reg35/2_cycle_alignment/210226_Bladder_TMA1_reg35_cycle08_channel00_DAPI_32.tif\n",
      "8 210226_Bladder_TMA1_reg35/2_cycle_alignment/210226_Bladder_TMA1_reg35_cycle09_channel00_DAPI_36.tif\n",
      "9 210226_Bladder_TMA1_reg35/2_cycle_alignment/210226_Bladder_TMA1_reg35_cycle10_channel00_DAPI_40.tif\n",
      "10 210226_Bladder_TMA1_reg35/2_cycle_alignment/210226_Bladder_TMA1_reg35_cycle11_channel00_DAPI_44.tif\n",
      "11 210226_Bladder_TMA1_reg35/2_cycle_alignment/210226_Bladder_TMA1_reg35_cycle12_channel00_DAPI_48.tif\n",
      "\n",
      "0 210226_Bladder_TMA1_reg35/4_stitching/210226_Bladder_TMA1_reg35_cycle01_channel00_DAPI_4.tif\n",
      "1 210226_Bladder_TMA1_reg35/4_stitching/210226_Bladder_TMA1_reg35_cycle02_channel00_DAPI_8.tif\n",
      "2 210226_Bladder_TMA1_reg35/4_stitching/210226_Bladder_TMA1_reg35_cycle03_channel00_DAPI_12.tif\n",
      "3 210226_Bladder_TMA1_reg35/4_stitching/210226_Bladder_TMA1_reg35_cycle04_channel00_DAPI_16.tif\n",
      "4 210226_Bladder_TMA1_reg35/4_stitching/210226_Bladder_TMA1_reg35_cycle05_channel00_DAPI_20.tif\n",
      "5 210226_Bladder_TMA1_reg35/4_stitching/210226_Bladder_TMA1_reg35_cycle06_channel00_DAPI_24.tif\n",
      "6 210226_Bladder_TMA1_reg35/4_stitching/210226_Bladder_TMA1_reg35_cycle07_channel00_DAPI_28.tif\n",
      "7 210226_Bladder_TMA1_reg35/4_stitching/210226_Bladder_TMA1_reg35_cycle08_channel00_DAPI_32.tif\n",
      "8 210226_Bladder_TMA1_reg35/4_stitching/210226_Bladder_TMA1_reg35_cycle09_channel00_DAPI_36.tif\n",
      "9 210226_Bladder_TMA1_reg35/4_stitching/210226_Bladder_TMA1_reg35_cycle10_channel00_DAPI_40.tif\n",
      "10 210226_Bladder_TMA1_reg35/4_stitching/210226_Bladder_TMA1_reg35_cycle11_channel00_DAPI_44.tif\n",
      "11 210226_Bladder_TMA1_reg35/4_stitching/210226_Bladder_TMA1_reg35_cycle12_channel00_DAPI_48.tif\n"
     ]
    }
   ],
   "source": [
    "all_imgs = !ls 210226_Bladder_TMA1_reg35/1_shading_correction/*.tif | grep DAPI\n",
    "for i,z in enumerate(all_imgs):\n",
    "    print(i, z)\n",
    "    \n",
    "print()\n",
    "after_imgs = !ls 210226_Bladder_TMA1_reg35/2_cycle_alignment/*.tif | grep DAPI\n",
    "for i,z in enumerate(after_imgs):\n",
    "    print(i, z)\n",
    "    \n",
    "print()\n",
    "stitched_imgs = !ls 210226_Bladder_TMA1_reg35/4_stitching/*.tif | grep DAPI\n",
    "for i,z in enumerate(stitched_imgs):\n",
    "    print(i, z)"
   ]
  },
  {
   "cell_type": "code",
   "execution_count": 22,
   "id": "solar-reward",
   "metadata": {},
   "outputs": [],
   "source": [
    "import itertools\n",
    "from scipy.stats import pearsonr\n",
    "def get_shifts(ref, query, tilesize=200, overlap=0, min_mean=300, \n",
    "               border = 50, \n",
    "               xnorm=np.inf, ynorm=np.inf):\n",
    "    assert np.all(ref.shape == query.shape)\n",
    "    h,w = ref.shape\n",
    "    nh = int(np.ceil((h-border) / tilesize))\n",
    "    nw = int(np.ceil((w-border) / tilesize))\n",
    "    nh += int(nh * overlap)\n",
    "    nw += int(nw * overlap)\n",
    "    hcoords = np.linspace(border, h-border-tilesize, nh, dtype='int')\n",
    "    wcoords = np.linspace(border, w-border-tilesize, nw, dtype='int')\n",
    "    \n",
    "    shifts = np.zeros((nh,nw,3),dtype='float')\n",
    "    \n",
    "    for i,hc in enumerate(hcoords):\n",
    "        for j,wc in enumerate(wcoords):\n",
    "            r = ref[hc:hc+tilesize, wc:wc+tilesize]\n",
    "            q = query[hc:hc+tilesize, wc:wc+tilesize]\n",
    "            if np.mean(r) < min_mean:\n",
    "                xoff=0\n",
    "                yoff=0\n",
    "            else:\n",
    "                xoff, yoff, exoff, eyoff = chi2_shift(r, q, return_error=True, upsample_factor='auto')\n",
    "            #if np.abs(xoff)>xnorm:\n",
    "            #    xoff=0\n",
    "            #if np.abs(yoff)>ynorm:\n",
    "            #    yoff=0\n",
    "            # cor = pearsonr(r.ravel(), q.ravel())\n",
    "            shifts[i,j,:] = xoff, yoff, np.mean(r)\n",
    "            \n",
    "    return shifts"
   ]
  },
  {
   "cell_type": "code",
   "execution_count": 23,
   "id": "focal-promotion",
   "metadata": {},
   "outputs": [],
   "source": [
    "def cart2polar(x,y):\n",
    "    theta = np.rad2deg(np.arctan2(y,x))\n",
    "    if (x<0) & (y>0):\n",
    "        theta = 0+theta\n",
    "    if (x<0) & (y<0):\n",
    "        theta = 360+theta\n",
    "    if (x>0) & (y<0):\n",
    "        theta = 360+theta\n",
    "            \n",
    "    r = np.sqrt(x**2 + y**2)\n",
    "    return r, theta/360\n",
    "\n",
    "from matplotlib.colors import hsv_to_rgb\n",
    "def color_shifts(shifts, r_norm=None):\n",
    "    hsv = np.zeros_like(shifts)\n",
    "    for i,j in itertools.product(range(shifts.shape[0]), range(shifts.shape[1])):\n",
    "        comp = shifts[i,j,:2]\n",
    "        r,theta = cart2polar(comp[0],comp[1])\n",
    "        hsv[i,j,:] = theta, r, 1\n",
    "        \n",
    "    if r_norm is None: \n",
    "        hsv[:,:,1] /= hsv[:,:,1].max()\n",
    "    else:\n",
    "        rlayer = hsv[:,:,1].copy()\n",
    "        rlayer[rlayer>r_norm] = r_norm\n",
    "        rlayer = rlayer/r_norm\n",
    "        hsv[:,:,1] = rlayer\n",
    "    \n",
    "    rgb = np.zeros_like(hsv)\n",
    "    for i,j in itertools.product(range(shifts.shape[0]), range(shifts.shape[1])):\n",
    "        color = hsv_to_rgb(hsv[i,j,:])\n",
    "        rgb[i,j,:] = color\n",
    "    \n",
    "    return rgb\n",
    "\n",
    "from matplotlib.colors import rgb2hex\n",
    "def scatter_shifts(shifts, rgb, lims=None, save=None, ax=None):\n",
    "    xs = []\n",
    "    ys = []\n",
    "    colors = []\n",
    "    for i,j in itertools.product(range(shifts.shape[0]), range(shifts.shape[1])):\n",
    "        xs.append(shifts[i,j,0])\n",
    "        ys.append(shifts[i,j,1])\n",
    "        colors.append(rgb2hex(rgb[i,j,:]))\n",
    "        \n",
    "    if lims is None:\n",
    "        xtnt = np.max(np.abs(xs))\n",
    "        ytnt = np.max(np.abs(ys))\n",
    "        lims = np.max([xtnt, ytnt])\n",
    "    \n",
    "    if ax is None:\n",
    "        \n",
    "        plt.figure(figsize=(2,2))\n",
    "        ax = plt.gca()\n",
    "    ax.set_aspect('equal')\n",
    "    ax.scatter(xs, ys, color=colors, lw=0.1, ec='k')\n",
    "    ax.set_xlabel('xoff')\n",
    "    ax.set_ylabel('yoff')\n",
    "    ax.axhline(0, color='k', lw=0.5, zorder=0)\n",
    "    ax.axvline(0, color='k', lw=0.5, zorder=0)\n",
    "    ax.set_xlim([-lims, lims])\n",
    "    ax.set_ylim([-lims, lims])\n",
    "    \n",
    "    if save is not None:\n",
    "        plt.savefig(save, bbox_inches='tight', transparent=True)"
   ]
  },
  {
   "cell_type": "code",
   "execution_count": 24,
   "id": "scientific-situation",
   "metadata": {},
   "outputs": [
    {
     "name": "stdout",
     "output_type": "stream",
     "text": [
      "(4096, 4096) (4096, 4096)\n",
      "(4096, 4096) (4096, 4096)\n",
      "(4096, 4096) (4096, 4096)\n",
      "(4096, 4096) (4096, 4096)\n",
      "(4096, 4096) (4096, 4096)\n"
     ]
    },
    {
     "ename": "KeyboardInterrupt",
     "evalue": "",
     "output_type": "error",
     "traceback": [
      "\u001b[0;31m---------------------------------------------------------------------------\u001b[0m",
      "\u001b[0;31mKeyboardInterrupt\u001b[0m                         Traceback (most recent call last)",
      "\u001b[0;32m<ipython-input-24-b91ed0f14519>\u001b[0m in \u001b[0;36m<module>\u001b[0;34m\u001b[0m\n\u001b[1;32m      8\u001b[0m     \u001b[0mprint\u001b[0m\u001b[0;34m(\u001b[0m\u001b[0mref_img\u001b[0m\u001b[0;34m.\u001b[0m\u001b[0mshape\u001b[0m\u001b[0;34m,\u001b[0m \u001b[0mbefore_img\u001b[0m\u001b[0;34m.\u001b[0m\u001b[0mshape\u001b[0m\u001b[0;34m)\u001b[0m\u001b[0;34m\u001b[0m\u001b[0;34m\u001b[0m\u001b[0m\n\u001b[1;32m      9\u001b[0m \u001b[0;34m\u001b[0m\u001b[0m\n\u001b[0;32m---> 10\u001b[0;31m     \u001b[0mshifts\u001b[0m \u001b[0;34m=\u001b[0m \u001b[0mget_shifts\u001b[0m\u001b[0;34m(\u001b[0m\u001b[0mref_img\u001b[0m\u001b[0;34m,\u001b[0m \u001b[0mbefore_img\u001b[0m\u001b[0;34m,\u001b[0m \u001b[0mtilesize\u001b[0m\u001b[0;34m=\u001b[0m\u001b[0;36m200\u001b[0m\u001b[0;34m,\u001b[0m \u001b[0moverlap\u001b[0m\u001b[0;34m=\u001b[0m\u001b[0;36m0.0\u001b[0m\u001b[0;34m)\u001b[0m\u001b[0;34m\u001b[0m\u001b[0;34m\u001b[0m\u001b[0m\n\u001b[0m\u001b[1;32m     11\u001b[0m \u001b[0;34m\u001b[0m\u001b[0m\n\u001b[1;32m     12\u001b[0m     \u001b[0mstitched_ref\u001b[0m \u001b[0;34m=\u001b[0m \u001b[0mcv2\u001b[0m\u001b[0;34m.\u001b[0m\u001b[0mimread\u001b[0m\u001b[0;34m(\u001b[0m\u001b[0mstitched_imgs\u001b[0m\u001b[0;34m[\u001b[0m\u001b[0;36m0\u001b[0m\u001b[0;34m]\u001b[0m\u001b[0;34m,\u001b[0m\u001b[0;34m-\u001b[0m\u001b[0;36m1\u001b[0m\u001b[0;34m)\u001b[0m\u001b[0;34m\u001b[0m\u001b[0;34m\u001b[0m\u001b[0m\n",
      "\u001b[0;32m<ipython-input-22-49ad8315d05c>\u001b[0m in \u001b[0;36mget_shifts\u001b[0;34m(ref, query, tilesize, overlap, min_mean, border, xnorm, ynorm)\u001b[0m\n\u001b[1;32m     23\u001b[0m                 \u001b[0myoff\u001b[0m\u001b[0;34m=\u001b[0m\u001b[0;36m0\u001b[0m\u001b[0;34m\u001b[0m\u001b[0;34m\u001b[0m\u001b[0m\n\u001b[1;32m     24\u001b[0m             \u001b[0;32melse\u001b[0m\u001b[0;34m:\u001b[0m\u001b[0;34m\u001b[0m\u001b[0;34m\u001b[0m\u001b[0m\n\u001b[0;32m---> 25\u001b[0;31m                 \u001b[0mxoff\u001b[0m\u001b[0;34m,\u001b[0m \u001b[0myoff\u001b[0m\u001b[0;34m,\u001b[0m \u001b[0mexoff\u001b[0m\u001b[0;34m,\u001b[0m \u001b[0meyoff\u001b[0m \u001b[0;34m=\u001b[0m \u001b[0mchi2_shift\u001b[0m\u001b[0;34m(\u001b[0m\u001b[0mr\u001b[0m\u001b[0;34m,\u001b[0m \u001b[0mq\u001b[0m\u001b[0;34m,\u001b[0m \u001b[0mreturn_error\u001b[0m\u001b[0;34m=\u001b[0m\u001b[0;32mTrue\u001b[0m\u001b[0;34m,\u001b[0m \u001b[0mupsample_factor\u001b[0m\u001b[0;34m=\u001b[0m\u001b[0;34m'auto'\u001b[0m\u001b[0;34m)\u001b[0m\u001b[0;34m\u001b[0m\u001b[0;34m\u001b[0m\u001b[0m\n\u001b[0m\u001b[1;32m     26\u001b[0m             \u001b[0;31m#if np.abs(xoff)>xnorm:\u001b[0m\u001b[0;34m\u001b[0m\u001b[0;34m\u001b[0m\u001b[0;34m\u001b[0m\u001b[0m\n\u001b[1;32m     27\u001b[0m             \u001b[0;31m#    xoff=0\u001b[0m\u001b[0;34m\u001b[0m\u001b[0;34m\u001b[0m\u001b[0;34m\u001b[0m\u001b[0m\n",
      "\u001b[0;32m~/miniconda3/envs/micron2/lib/python3.8/site-packages/image_registration/chi2_shifts.py\u001b[0m in \u001b[0;36mchi2_shift\u001b[0;34m(im1, im2, err, upsample_factor, boundary, nthreads, use_numpy_fft, zeromean, nfitted, verbose, return_error, return_chi2array, max_auto_size, max_nsig)\u001b[0m\n\u001b[1;32m    218\u001b[0m     \u001b[0;31m# BELOW IS TO COMPUTE THE ERROR\u001b[0m\u001b[0;34m\u001b[0m\u001b[0;34m\u001b[0m\u001b[0;34m\u001b[0m\u001b[0m\n\u001b[1;32m    219\u001b[0m \u001b[0;34m\u001b[0m\u001b[0m\n\u001b[0;32m--> 220\u001b[0;31m     \u001b[0merrx_low\u001b[0m\u001b[0;34m,\u001b[0m\u001b[0merrx_high\u001b[0m\u001b[0;34m,\u001b[0m\u001b[0merry_low\u001b[0m\u001b[0;34m,\u001b[0m\u001b[0merry_high\u001b[0m \u001b[0;34m=\u001b[0m \u001b[0mchi2map_to_errors\u001b[0m\u001b[0;34m(\u001b[0m\u001b[0mchi2_ups\u001b[0m\u001b[0;34m,\u001b[0m \u001b[0mupsample_factor\u001b[0m\u001b[0;34m)\u001b[0m\u001b[0;34m\u001b[0m\u001b[0;34m\u001b[0m\u001b[0m\n\u001b[0m\u001b[1;32m    221\u001b[0m \u001b[0;34m\u001b[0m\u001b[0m\n\u001b[1;32m    222\u001b[0m     \u001b[0myshift_corr\u001b[0m \u001b[0;34m=\u001b[0m \u001b[0myshifts_corrections\u001b[0m\u001b[0;34m.\u001b[0m\u001b[0mflat\u001b[0m\u001b[0;34m[\u001b[0m\u001b[0mchi2_ups\u001b[0m\u001b[0;34m.\u001b[0m\u001b[0margmin\u001b[0m\u001b[0;34m(\u001b[0m\u001b[0;34m)\u001b[0m\u001b[0;34m]\u001b[0m\u001b[0;34m-\u001b[0m\u001b[0mycen\u001b[0m\u001b[0;34m\u001b[0m\u001b[0;34m\u001b[0m\u001b[0m\n",
      "\u001b[0;32m~/miniconda3/envs/micron2/lib/python3.8/site-packages/image_registration/chi2_shifts.py\u001b[0m in \u001b[0;36mchi2map_to_errors\u001b[0;34m(chi2map, zoomfactor, nsigma, nfitted)\u001b[0m\n\u001b[1;32m    273\u001b[0m         \u001b[0msigma_to_chi2\u001b[0m \u001b[0;34m=\u001b[0m \u001b[0;32mlambda\u001b[0m \u001b[0mx\u001b[0m\u001b[0;34m:\u001b[0m \u001b[0;36m1.59358435\u001b[0m \u001b[0;34m*\u001b[0m \u001b[0mx\u001b[0m\u001b[0;34m**\u001b[0m\u001b[0;36m1.80468278\u001b[0m\u001b[0;34m\u001b[0m\u001b[0;34m\u001b[0m\u001b[0m\n\u001b[1;32m    274\u001b[0m \u001b[0;34m\u001b[0m\u001b[0m\n\u001b[0;32m--> 275\u001b[0;31m     \u001b[0myy\u001b[0m\u001b[0;34m,\u001b[0m\u001b[0mxx\u001b[0m \u001b[0;34m=\u001b[0m \u001b[0;34m(\u001b[0m\u001b[0mnp\u001b[0m\u001b[0;34m.\u001b[0m\u001b[0mindices\u001b[0m\u001b[0;34m(\u001b[0m\u001b[0mchi2map\u001b[0m\u001b[0;34m.\u001b[0m\u001b[0mshape\u001b[0m\u001b[0;34m)\u001b[0m \u001b[0;34m-\u001b[0m \u001b[0mnp\u001b[0m\u001b[0;34m.\u001b[0m\u001b[0marray\u001b[0m\u001b[0;34m(\u001b[0m\u001b[0mchi2map\u001b[0m\u001b[0;34m.\u001b[0m\u001b[0mshape\u001b[0m\u001b[0;34m)\u001b[0m\u001b[0;34m[\u001b[0m\u001b[0;34m:\u001b[0m\u001b[0;34m,\u001b[0m\u001b[0mnp\u001b[0m\u001b[0;34m.\u001b[0m\u001b[0mnewaxis\u001b[0m\u001b[0;34m,\u001b[0m\u001b[0mnp\u001b[0m\u001b[0;34m.\u001b[0m\u001b[0mnewaxis\u001b[0m\u001b[0;34m]\u001b[0m\u001b[0;34m/\u001b[0m\u001b[0;36m2.\u001b[0m\u001b[0;34m)\u001b[0m \u001b[0;34m/\u001b[0m \u001b[0mzoomfactor\u001b[0m\u001b[0;34m\u001b[0m\u001b[0;34m\u001b[0m\u001b[0m\n\u001b[0m\u001b[1;32m    276\u001b[0m \u001b[0;34m\u001b[0m\u001b[0m\n\u001b[1;32m    277\u001b[0m     \u001b[0mxcen\u001b[0m \u001b[0;34m=\u001b[0m \u001b[0mxx\u001b[0m\u001b[0;34m.\u001b[0m\u001b[0mflat\u001b[0m\u001b[0;34m[\u001b[0m\u001b[0mchi2map\u001b[0m\u001b[0;34m.\u001b[0m\u001b[0margmin\u001b[0m\u001b[0;34m(\u001b[0m\u001b[0;34m)\u001b[0m\u001b[0;34m]\u001b[0m\u001b[0;34m\u001b[0m\u001b[0;34m\u001b[0m\u001b[0m\n",
      "\u001b[0;31mKeyboardInterrupt\u001b[0m: "
     ]
    },
    {
     "data": {
      "image/png": "[encoded data removed]",
      "text/plain": [
       "<Figure size 432x288 with 1 Axes>"
      ]
     },
     "metadata": {
      "needs_background": "light"
     },
     "output_type": "display_data"
    },
    {
     "data": {
      "image/png": "[encoded data removed]",
      "text/plain": [
       "<Figure size 144x144 with 1 Axes>"
      ]
     },
     "metadata": {
      "needs_background": "light"
     },
     "output_type": "display_data"
    },
    {
     "data": {
      "image/png": "[encoded data removed]",
      "text/plain": [
       "<Figure size 432x288 with 1 Axes>"
      ]
     },
     "metadata": {
      "needs_background": "light"
     },
     "output_type": "display_data"
    },
    {
     "data": {
      "image/png": "[encoded data removed]",
      "text/plain": [
       "<Figure size 144x144 with 1 Axes>"
      ]
     },
     "metadata": {
      "needs_background": "light"
     },
     "output_type": "display_data"
    },
    {
     "data": {
      "image/png": "[encoded data removed]",
      "text/plain": [
       "<Figure size 432x288 with 1 Axes>"
      ]
     },
     "metadata": {
      "needs_background": "light"
     },
     "output_type": "display_data"
    },
    {
     "data": {
      "image/png": "[encoded data removed]",
      "text/plain": [
       "<Figure size 144x144 with 1 Axes>"
      ]
     },
     "metadata": {
      "needs_background": "light"
     },
     "output_type": "display_data"
    },
    {
     "data": {
      "image/png": "[encoded data removed]",
      "text/plain": [
       "<Figure size 432x288 with 1 Axes>"
      ]
     },
     "metadata": {
      "needs_background": "light"
     },
     "output_type": "display_data"
    },
    {
     "data": {
      "image/png": "[encoded data removed]",
      "text/plain": [
       "<Figure size 144x144 with 1 Axes>"
      ]
     },
     "metadata": {
      "needs_background": "light"
     },
     "output_type": "display_data"
    },
    {
     "data": {
      "image/png": "[encoded data removed]",
      "text/plain": [
       "<Figure size 432x288 with 1 Axes>"
      ]
     },
     "metadata": {
      "needs_background": "light"
     },
     "output_type": "display_data"
    },
    {
     "data": {
      "image/png": "[encoded data removed]",
      "text/plain": [
       "<Figure size 144x144 with 1 Axes>"
      ]
     },
     "metadata": {
      "needs_background": "light"
     },
     "output_type": "display_data"
    },
    {
     "data": {
      "image/png": "[encoded data removed]",
      "text/plain": [
       "<Figure size 432x288 with 1 Axes>"
      ]
     },
     "metadata": {
      "needs_background": "light"
     },
     "output_type": "display_data"
    },
    {
     "data": {
      "image/png": "[encoded data removed]",
      "text/plain": [
       "<Figure size 144x144 with 1 Axes>"
      ]
     },
     "metadata": {
      "needs_background": "light"
     },
     "output_type": "display_data"
    },
    {
     "data": {
      "image/png": "[encoded data removed]",
      "text/plain": [
       "<Figure size 432x288 with 1 Axes>"
      ]
     },
     "metadata": {
      "needs_background": "light"
     },
     "output_type": "display_data"
    },
    {
     "data": {
      "image/png": "[encoded data removed]",
      "text/plain": [
       "<Figure size 144x144 with 1 Axes>"
      ]
     },
     "metadata": {
      "needs_background": "light"
     },
     "output_type": "display_data"
    },
    {
     "data": {
      "image/png": "[encoded data removed]",
      "text/plain": [
       "<Figure size 432x288 with 1 Axes>"
      ]
     },
     "metadata": {
      "needs_background": "light"
     },
     "output_type": "display_data"
    },
    {
     "data": {
      "image/png": "[encoded data removed]",
      "text/plain": [
       "<Figure size 144x144 with 1 Axes>"
      ]
     },
     "metadata": {
      "needs_background": "light"
     },
     "output_type": "display_data"
    }
   ],
   "source": [
    "from matplotlib import rcParams\n",
    "rcParams['svg.fonttype'] = 'none'\n",
    "\n",
    "cycle_index = 1\n",
    "for cycle_index in range(1,10):\n",
    "    ref_img = cv2.imread(all_imgs[0],-1)\n",
    "    before_img = cv2.imread(all_imgs[cycle_index],-1)\n",
    "    print(ref_img.shape, before_img.shape)\n",
    "    \n",
    "    shifts = get_shifts(ref_img, before_img, tilesize=200, overlap=0.0)\n",
    "    \n",
    "    stitched_ref = cv2.imread(stitched_imgs[0],-1)\n",
    "    aligned_img = cv2.imread(stitched_imgs[cycle_index],-1)\n",
    "    \n",
    "    shifts_aligned = get_shifts(stitched_ref, aligned_img, tilesize=200, overlap=0.0)\n",
    "    \n",
    "    rgb = color_shifts(shifts)\n",
    "    rgb_aligned = color_shifts(shifts_aligned)\n",
    "    \n",
    "    np.save(f'figures/cycle_alignment/optical_shift/cycle_{cycle_index}_shift_uncorrected.npy', shifts)\n",
    "    np.save(f'figures/cycle_alignment/optical_shift/cycle_{cycle_index}_shift_corrected.npy', shifts_aligned)\n",
    "    \n",
    "    plt.figure()\n",
    "    ax = plt.gca()\n",
    "    ax.imshow(rgb)\n",
    "    ax.axis('off')\n",
    "    plt.savefig(f'figures/cycle_alignment/optical_shift/cycle_{cycle_index}_uncorrected.png',\n",
    "                bbox_inches='tight', transparent=True)\n",
    "\n",
    "    scatter_shifts(shifts, rgb, lims=6,\n",
    "                   save = f'figures/cycle_alignment/optical_shift/cycle_{cycle_index}_uncorrected_plot.svg')\n",
    "    \n",
    "    plt.figure()\n",
    "    ax = plt.gca()\n",
    "    ax.imshow(rgb_aligned)\n",
    "    ax.axis('off')\n",
    "    plt.savefig(f'figures/cycle_alignment/optical_shift/cycle_{cycle_index}_corrected.png',\n",
    "                bbox_inches='tight', transparent=True)\n",
    "\n",
    "    scatter_shifts(shifts_aligned, rgb_aligned, lims=6,\n",
    "                   save = f'figures/cycle_alignment/optical_shift/cycle_{cycle_index}_corrected_plot.svg')"
   ]
  },
  {
   "cell_type": "code",
   "execution_count": null,
   "id": "dutch-venezuela",
   "metadata": {
    "scrolled": true
   },
   "outputs": [],
   "source": [
    "for cycle_index in range(1,10):\n",
    "    shifts = np.load(f'figures/cycle_alignment/optical_shift/cycle_{cycle_index}_shift_uncorrected.npy')\n",
    "    shifts_aligned = np.load(f'figures/cycle_alignment/optical_shift/cycle_{cycle_index}_shift_corrected.npy')\n",
    "    \n",
    "#     shifts[:,10,:] = 0\n",
    "#     shifts[10,:,:] = 0\n",
    "#     shifts_aligned[:,10,:] = 0\n",
    "#     shifts_aligned[10,:,:] = 0\n",
    "    \n",
    "    rgb = color_shifts(shifts, r_norm=5)\n",
    "    rgb_aligned = color_shifts(shifts_aligned, r_norm=5)\n",
    "    \n",
    "    plt.figure()\n",
    "    ax = plt.gca()\n",
    "    ax.imshow(rgb)\n",
    "    ax.axis('off')\n",
    "    plt.savefig(f'figures/cycle_alignment/optical_shift/cycle_{cycle_index}_uncorrected.png',\n",
    "                bbox_inches='tight', transparent=True)\n",
    "\n",
    "    scatter_shifts(shifts, rgb, lims=6,\n",
    "                   save = f'figures/cycle_alignment/optical_shift/cycle_{cycle_index}_uncorrected_plot.svg')\n",
    "    \n",
    "    plt.figure()\n",
    "    ax = plt.gca()\n",
    "    ax.imshow(rgb_aligned)\n",
    "    ax.axis('off')\n",
    "    plt.savefig(f'figures/cycle_alignment/optical_shift/cycle_{cycle_index}_corrected.png',\n",
    "                bbox_inches='tight', transparent=True)\n",
    "\n",
    "    scatter_shifts(shifts_aligned, rgb_aligned, lims=6,\n",
    "                   save = f'figures/cycle_alignment/optical_shift/cycle_{cycle_index}_corrected_plot.svg')"
   ]
  },
  {
   "cell_type": "code",
   "execution_count": null,
   "id": "established-engine",
   "metadata": {},
   "outputs": [],
   "source": []
  },
  {
   "cell_type": "code",
   "execution_count": null,
   "id": "labeled-james",
   "metadata": {},
   "outputs": [],
   "source": []
  },
  {
   "cell_type": "code",
   "execution_count": null,
   "id": "unknown-hello",
   "metadata": {},
   "outputs": [],
   "source": []
  }
 ],
 "metadata": {
  "kernelspec": {
   "display_name": "Python 3",
   "language": "python",
   "name": "python3"
  },
  "language_info": {
   "codemirror_mode": {
    "name": "ipython",
    "version": 3
   },
   "file_extension": ".py",
   "mimetype": "text/x-python",
   "name": "python",
   "nbconvert_exporter": "python",
   "pygments_lexer": "ipython3",
   "version": "3.8.5"
  }
 },
 "nbformat": 4,
 "nbformat_minor": 5
}
