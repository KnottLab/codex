{
 "cells": [
  {
   "cell_type": "code",
   "execution_count": 1,
   "id": "undefined-tunnel",
   "metadata": {},
   "outputs": [],
   "source": [
    "%matplotlib inline\n",
    "from matplotlib import pyplot as plt\n",
    "\n",
    "import cv2\n",
    "import numpy as np"
   ]
  },
  {
   "cell_type": "code",
   "execution_count": null,
   "id": "compact-palestine",
   "metadata": {},
   "outputs": [],
   "source": [
    "ref_images = !ls 210226_Bladder_TMA1_reg36/0_edof/*.tif\n",
    "before_images = !ls 210226_Bladder_TMA1_reg36/1_shading_correction/*.tif\n",
    "corrected_images = !ls 210226_Bladder_TMA1_reg36/2_cycle_alignment/*.tif"
   ]
  },
  {
   "cell_type": "code",
   "execution_count": 64,
   "id": "centered-python",
   "metadata": {},
   "outputs": [
    {
     "name": "stdout",
     "output_type": "stream",
     "text": [
      "0 210226_Bladder_TMA1_reg36/1_shading_correction/210226_Bladder_TMA1_reg36_cycle00_channel00_Blank_0.tif\n",
      "1 210226_Bladder_TMA1_reg36/1_shading_correction/210226_Bladder_TMA1_reg36_cycle00_channel01_Blank_1.tif\n",
      "2 210226_Bladder_TMA1_reg36/1_shading_correction/210226_Bladder_TMA1_reg36_cycle00_channel02_Blank_2.tif\n",
      "3 210226_Bladder_TMA1_reg36/1_shading_correction/210226_Bladder_TMA1_reg36_cycle01_channel00_DAPI_4.tif\n",
      "4 210226_Bladder_TMA1_reg36/1_shading_correction/210226_Bladder_TMA1_reg36_cycle01_channel01_CD8_5.tif\n",
      "5 210226_Bladder_TMA1_reg36/1_shading_correction/210226_Bladder_TMA1_reg36_cycle01_channel02_CD4_6.tif\n",
      "6 210226_Bladder_TMA1_reg36/1_shading_correction/210226_Bladder_TMA1_reg36_cycle02_channel00_DAPI_8.tif\n",
      "7 210226_Bladder_TMA1_reg36/1_shading_correction/210226_Bladder_TMA1_reg36_cycle02_channel01_aSMA_9.tif\n",
      "8 210226_Bladder_TMA1_reg36/1_shading_correction/210226_Bladder_TMA1_reg36_cycle02_channel02_CD45_10.tif\n",
      "9 210226_Bladder_TMA1_reg36/1_shading_correction/210226_Bladder_TMA1_reg36_cycle03_channel00_DAPI_12.tif\n",
      "10 210226_Bladder_TMA1_reg36/1_shading_correction/210226_Bladder_TMA1_reg36_cycle03_channel01_CD49a_13.tif\n",
      "11 210226_Bladder_TMA1_reg36/1_shading_correction/210226_Bladder_TMA1_reg36_cycle03_channel02_CD68_14.tif\n",
      "12 210226_Bladder_TMA1_reg36/1_shading_correction/210226_Bladder_TMA1_reg36_cycle04_channel00_DAPI_16.tif\n",
      "13 210226_Bladder_TMA1_reg36/1_shading_correction/210226_Bladder_TMA1_reg36_cycle04_channel01_CD103_17.tif\n",
      "14 210226_Bladder_TMA1_reg36/1_shading_correction/210226_Bladder_TMA1_reg36_cycle05_channel00_DAPI_20.tif\n",
      "15 210226_Bladder_TMA1_reg36/1_shading_correction/210226_Bladder_TMA1_reg36_cycle05_channel01_GATA3_21.tif\n",
      "16 210226_Bladder_TMA1_reg36/1_shading_correction/210226_Bladder_TMA1_reg36_cycle06_channel00_DAPI_24.tif\n",
      "17 210226_Bladder_TMA1_reg36/1_shading_correction/210226_Bladder_TMA1_reg36_cycle06_channel01_CDH18_25.tif\n",
      "18 210226_Bladder_TMA1_reg36/1_shading_correction/210226_Bladder_TMA1_reg36_cycle07_channel00_DAPI_28.tif\n",
      "19 210226_Bladder_TMA1_reg36/1_shading_correction/210226_Bladder_TMA1_reg36_cycle07_channel01_KRT17_29.tif\n",
      "20 210226_Bladder_TMA1_reg36/1_shading_correction/210226_Bladder_TMA1_reg36_cycle08_channel00_DAPI_32.tif\n",
      "21 210226_Bladder_TMA1_reg36/1_shading_correction/210226_Bladder_TMA1_reg36_cycle08_channel01_PD-1_33.tif\n",
      "22 210226_Bladder_TMA1_reg36/1_shading_correction/210226_Bladder_TMA1_reg36_cycle09_channel00_DAPI_36.tif\n",
      "23 210226_Bladder_TMA1_reg36/1_shading_correction/210226_Bladder_TMA1_reg36_cycle09_channel01_CD69_37.tif\n",
      "24 210226_Bladder_TMA1_reg36/1_shading_correction/210226_Bladder_TMA1_reg36_cycle10_channel00_DAPI_40.tif\n",
      "25 210226_Bladder_TMA1_reg36/1_shading_correction/210226_Bladder_TMA1_reg36_cycle10_channel01_PD-L1_41.tif\n",
      "26 210226_Bladder_TMA1_reg36/1_shading_correction/210226_Bladder_TMA1_reg36_cycle11_channel00_DAPI_44.tif\n",
      "27 210226_Bladder_TMA1_reg36/1_shading_correction/210226_Bladder_TMA1_reg36_cycle11_channel01_GZMB_45.tif\n",
      "28 210226_Bladder_TMA1_reg36/1_shading_correction/210226_Bladder_TMA1_reg36_cycle12_channel00_DAPI_48.tif\n",
      "29 210226_Bladder_TMA1_reg36/1_shading_correction/210226_Bladder_TMA1_reg36_cycle12_channel01_LAG3_49.tif\n",
      "30 210226_Bladder_TMA1_reg36/1_shading_correction/210226_Bladder_TMA1_reg36_cycle13_channel00_Blank_52.tif\n",
      "31 210226_Bladder_TMA1_reg36/1_shading_correction/210226_Bladder_TMA1_reg36_cycle13_channel01_Blank_53.tif\n",
      "32 210226_Bladder_TMA1_reg36/1_shading_correction/210226_Bladder_TMA1_reg36_cycle13_channel02_Blank_54.tif\n"
     ]
    }
   ],
   "source": [
    "shading_images = !ls 210226_Bladder_TMA1_reg36/1_shading_correction/*.tif\n",
    "corrected_images = !ls 210226_Bladder_TMA1_reg36/2_cycle_alignment/*.tif\n",
    "for i,z in enumerate(shading_images):\n",
    "    print(f'{i} {z}')"
   ]
  },
  {
   "cell_type": "code",
   "execution_count": 65,
   "id": "behavioral-retrieval",
   "metadata": {},
   "outputs": [
    {
     "name": "stdout",
     "output_type": "stream",
     "text": [
      "210226_Bladder_TMA1_reg36/1_shading_correction/210226_Bladder_TMA1_reg36_cycle01_channel00_DAPI_4.tif\n",
      "210226_Bladder_TMA1_reg36/1_shading_correction/210226_Bladder_TMA1_reg36_cycle10_channel00_DAPI_40.tif\n",
      "210226_Bladder_TMA1_reg36/2_cycle_alignment/210226_Bladder_TMA1_reg36_cycle10_channel00_DAPI_40.tif\n"
     ]
    }
   ],
   "source": [
    "ref_file = shading_images[3]\n",
    "before_file = shading_images[24]\n",
    "corrected_file = corrected_images[24]\n",
    "print(ref_file)\n",
    "print(before_file)\n",
    "print(corrected_file)"
   ]
  },
  {
   "cell_type": "code",
   "execution_count": 102,
   "id": "fifty-auditor",
   "metadata": {},
   "outputs": [
    {
     "data": {
      "text/plain": [
       "True"
      ]
     },
     "execution_count": 102,
     "metadata": {},
     "output_type": "execute_result"
    }
   ],
   "source": [
    "s1 = 128\n",
    "s2 = 128\n",
    "c1 = 2148\n",
    "c2 = 3096\n",
    "ref_image = cv2.imread(ref_file, -1)[c1:c1+s1, c2:c2+s2]\n",
    "before_image = cv2.imread(before_file, -1)[c1:c1+s1, c2:c2+s2]\n",
    "corrected_image = cv2.imread(corrected_file, -1)[c1:c1+s1, c2:c2+s2]\n",
    "\n",
    "q = np.quantile(ref_image, 0.9999)\n",
    "ref_image[ref_image>q] = q\n",
    "ref_image = (255*(ref_image/q)).astype(np.uint8)\n",
    "\n",
    "q = np.quantile(before_image, 0.9999)\n",
    "before_image[before_image>q] = q\n",
    "before_image = (255*(before_image/q)).astype(np.uint8)\n",
    "\n",
    "q = np.quantile(corrected_image, 0.9999)\n",
    "corrected_image[corrected_image>q] = q\n",
    "corrected_image = (255*(corrected_image/q)).astype(np.uint8)\n",
    "\n",
    "rgb_before = np.dstack([ref_image, before_image, np.zeros_like(ref_image)])\n",
    "rgb_after = np.dstack([ref_image, corrected_image, np.zeros_like(ref_image)])\n",
    "\n",
    "st = f'{c1}-{s1}--{c2}-{s2}'\n",
    "cv2.imwrite(f'figures/cycle_alignment/cycle_{st}_1_before.png', rgb_before[:,:,::-1])\n",
    "cv2.imwrite(f'figures/cycle_alignment/cycle_{st}_2_after.png', rgb_after[:,:,::-1])"
   ]
  },
  {
   "cell_type": "code",
   "execution_count": 89,
   "id": "worldwide-designer",
   "metadata": {},
   "outputs": [],
   "source": []
  },
  {
   "cell_type": "code",
   "execution_count": null,
   "id": "psychological-german",
   "metadata": {},
   "outputs": [],
   "source": []
  },
  {
   "cell_type": "code",
   "execution_count": null,
   "id": "nutritional-nursing",
   "metadata": {},
   "outputs": [],
   "source": []
  },
  {
   "cell_type": "code",
   "execution_count": null,
   "id": "forward-praise",
   "metadata": {},
   "outputs": [],
   "source": []
  },
  {
   "cell_type": "code",
   "execution_count": null,
   "id": "passing-government",
   "metadata": {},
   "outputs": [],
   "source": []
  }
 ],
 "metadata": {
  "kernelspec": {
   "display_name": "Python 3",
   "language": "python",
   "name": "python3"
  },
  "language_info": {
   "codemirror_mode": {
    "name": "ipython",
    "version": 3
   },
   "file_extension": ".py",
   "mimetype": "text/x-python",
   "name": "python",
   "nbconvert_exporter": "python",
   "pygments_lexer": "ipython3",
   "version": "3.8.5"
  }
 },
 "nbformat": 4,
 "nbformat_minor": 5
}
