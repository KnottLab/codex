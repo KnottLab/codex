{
 "cells": [
  {
   "cell_type": "code",
   "execution_count": 1,
   "id": "governmental-month",
   "metadata": {},
   "outputs": [],
   "source": [
    "%matplotlib inline\n",
    "from matplotlib import pyplot as plt\n",
    "\n",
    "import cv2\n",
    "import numpy as np"
   ]
  },
  {
   "cell_type": "code",
   "execution_count": 3,
   "id": "paperback-interface",
   "metadata": {},
   "outputs": [
    {
     "name": "stdout",
     "output_type": "stream",
     "text": [
      "210226_Bladder_TMA1_reg36/1_shading_correction/210226_Bladder_TMA1_reg36_cycle01_channel00_DAPI_4.tif\n",
      "210226_Bladder_TMA1_reg36/4_stitching/210226_Bladder_TMA1_reg36_cycle01_channel00_DAPI_4.tif\n"
     ]
    }
   ],
   "source": [
    "ref_images = !ls 210226_Bladder_TMA1_reg36/1_shading_correction/*.tif\n",
    "fixed_images = !ls 210226_Bladder_TMA1_reg36/4_stitching/*.tif\n",
    "\n",
    "ref_file = ref_images[3]\n",
    "fixed_file = fixed_images[3]\n",
    "print(ref_file)\n",
    "print(fixed_file)"
   ]
  },
  {
   "cell_type": "code",
   "execution_count": 6,
   "id": "instant-oasis",
   "metadata": {},
   "outputs": [
    {
     "name": "stdout",
     "output_type": "stream",
     "text": [
      "(4096, 4096)\n"
     ]
    }
   ],
   "source": [
    "ref_image = cv2.imread(ref_file, -1)\n",
    "print(ref_image.shape)\n",
    "q = np.quantile(ref_image, 0.9999)\n",
    "ref_image[ref_image>q] = q\n",
    "ref_image = (255*(ref_image/q)).astype(np.uint8)"
   ]
  },
  {
   "cell_type": "code",
   "execution_count": 7,
   "id": "three-wallace",
   "metadata": {},
   "outputs": [
    {
     "name": "stdout",
     "output_type": "stream",
     "text": [
      "(3891, 3891)\n"
     ]
    }
   ],
   "source": [
    "fixed_image = cv2.imread(fixed_file, -1)\n",
    "print(fixed_image.shape)\n",
    "q = np.quantile(fixed_image, 0.9999)\n",
    "fixed_image[fixed_image>q] = q\n",
    "fixed_image = (255*(fixed_image/q)).astype(np.uint8)"
   ]
  },
  {
   "cell_type": "code",
   "execution_count": 90,
   "id": "efficient-county",
   "metadata": {},
   "outputs": [
    {
     "data": {
      "text/plain": [
       "True"
      ]
     },
     "execution_count": 90,
     "metadata": {},
     "output_type": "execute_result"
    }
   ],
   "source": [
    "cv2.imwrite('z.png', fixed_image)"
   ]
  },
  {
   "cell_type": "code",
   "execution_count": 54,
   "id": "false-operator",
   "metadata": {},
   "outputs": [
    {
     "name": "stdout",
     "output_type": "stream",
     "text": [
      "205\n"
     ]
    }
   ],
   "source": [
    "width = 2048\n",
    "overlap_pct = 0.1\n",
    "overhang = 100\n",
    "overlap_size = int(np.ceil(width * overlap_pct))\n",
    "print(overlap_size)"
   ]
  },
  {
   "cell_type": "code",
   "execution_count": 51,
   "id": "automated-chapter",
   "metadata": {},
   "outputs": [
    {
     "data": {
      "text/plain": [
       "True"
      ]
     },
     "execution_count": 51,
     "metadata": {},
     "output_type": "execute_result"
    }
   ],
   "source": [
    "# x1 = ref_image[:, 2480-overlap_size*2-overhang:2048+overhang]\n",
    "# x1 = x1[512:1536,:]\n",
    "marked = ref_image.copy()\n",
    "marked[:, 2046:2050] = 255\n",
    "marked[2046:2050, :] = 255\n",
    "z = 2046-overlap_size\n",
    "marked[z:z+2, :] = 255\n",
    "marked[:, z:z+2] = 255\n",
    "z = 2046+overlap_size\n",
    "marked[z:z+2, :] = 255\n",
    "marked[:, z:z+2] = 255\n",
    "cv2.imwrite('figures/stitching/x.png', marked)"
   ]
  },
  {
   "cell_type": "code",
   "execution_count": 79,
   "id": "frequent-click",
   "metadata": {},
   "outputs": [],
   "source": []
  },
  {
   "cell_type": "code",
   "execution_count": 105,
   "id": "temporal-chemistry",
   "metadata": {},
   "outputs": [
    {
     "name": "stdout",
     "output_type": "stream",
     "text": [
      "(405, 1200) (405, 1200) (405, 1200)\n"
     ]
    },
    {
     "data": {
      "text/plain": [
       "True"
      ]
     },
     "execution_count": 105,
     "metadata": {},
     "output_type": "execute_result"
    }
   ],
   "source": [
    "p1 = 2400\n",
    "p2 = 3600\n",
    "b1 = ref_image[2048-overlap_size-overhang:2048, p1:p2]\n",
    "b2 = ref_image[2048:2048+overlap_size+overhang, p1:p2]\n",
    "b3 = fixed_image[2048-overlap_size+8:2048-overlap_size+8+overlap_size+overhang, p1-overlap_size+15:p2-overlap_size+15]\n",
    "\n",
    "# print(border_1.shape, border_2.shape, border_3.shape)\n",
    "# b1 = border_1[512:1536,:]\n",
    "# b2 = border_2[512:1536,:]\n",
    "# b3 = border_3[512:1536,:]\n",
    "b1 = np.concatenate([b1, np.zeros((overhang, b1.shape[1]), dtype=b1.dtype)], axis=0)\n",
    "b2 = np.concatenate([np.zeros((overhang, b2.shape[1]), dtype=b2.dtype), b2], axis=0)\n",
    "b3 = np.concatenate([np.zeros((overhang, b3.shape[1]), dtype=b3.dtype), b3], axis=0)\n",
    "print(b1.shape, b2.shape, b3.shape)\n",
    "\n",
    "cv2.imwrite('figures/stitching/b1.png', b1)\n",
    "cv2.imwrite('figures/stitching/b2.png', b2)\n",
    "cv2.imwrite('figures/stitching/b3.png', b3)\n",
    "\n",
    "rgb_before = np.dstack([b1, b2, np.zeros_like(b1)])\n",
    "rgb_after = np.dstack([b1, b3, np.zeros_like(b1)])\n",
    "\n",
    "cv2.imwrite('figures/stitching/overlap_before.png', rgb_before[:,:,::-1])\n",
    "cv2.imwrite('figures/stitching/overlap_fixed.png', rgb_after[:,:,::-1])"
   ]
  },
  {
   "cell_type": "code",
   "execution_count": null,
   "id": "lesbian-familiar",
   "metadata": {},
   "outputs": [],
   "source": []
  },
  {
   "cell_type": "code",
   "execution_count": null,
   "id": "adjustable-finish",
   "metadata": {},
   "outputs": [],
   "source": []
  },
  {
   "cell_type": "code",
   "execution_count": null,
   "id": "decimal-warrior",
   "metadata": {},
   "outputs": [],
   "source": []
  }
 ],
 "metadata": {
  "kernelspec": {
   "display_name": "Python 3",
   "language": "python",
   "name": "python3"
  },
  "language_info": {
   "codemirror_mode": {
    "name": "ipython",
    "version": 3
   },
   "file_extension": ".py",
   "mimetype": "text/x-python",
   "name": "python",
   "nbconvert_exporter": "python",
   "pygments_lexer": "ipython3",
   "version": "3.8.5"
  }
 },
 "nbformat": 4,
 "nbformat_minor": 5
}
